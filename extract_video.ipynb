{
 "cells": [
  {
   "cell_type": "code",
   "execution_count": 1,
   "metadata": {},
   "outputs": [
    {
     "name": "stdout",
     "output_type": "stream",
     "text": [
      "Collecting opencv-python\n",
      "  Using cached opencv_python-4.11.0.86-cp37-abi3-win_amd64.whl.metadata (20 kB)\n",
      "Requirement already satisfied: numpy>=1.21.2 in c:\\users\\lvcm3\\anaconda3\\envs\\deim\\lib\\site-packages (from opencv-python) (2.2.3)\n",
      "Using cached opencv_python-4.11.0.86-cp37-abi3-win_amd64.whl (39.5 MB)\n",
      "Installing collected packages: opencv-python\n",
      "Successfully installed opencv-python-4.11.0.86\n",
      "Note: you may need to restart the kernel to use updated packages.\n"
     ]
    }
   ],
   "source": [
    "%pip install opencv-python"
   ]
  },
  {
   "cell_type": "code",
   "execution_count": 1,
   "metadata": {},
   "outputs": [],
   "source": [
    "import os\n",
    "\n",
    "gerakan = [\"Berdiri\", \"Duduk\", \"Sujud\"]\n",
    "\n",
    "path0 = \"Hasil\"\n",
    "if not os.path.isdir(path0):\n",
    "    os.mkdir(path0)\n",
    "    \n",
    "path1 = path0+\"/data_frame\"\n",
    "path2 = path0+\"/final_frame\"\n",
    "path3 = path0+\"/final1_frame\"\n",
    "\n",
    "if not os.path.isdir(path1):\n",
    "    os.mkdir(path1)\n",
    "    \n",
    "if not os.path.isdir(path2):\n",
    "    os.mkdir(path2)\n",
    "    \n",
    "if not os.path.isdir(path3):\n",
    "    os.mkdir(path3)\n",
    "    \n",
    "for a in gerakan:\n",
    "    path_temp1 = path1+\"/\"+a\n",
    "    path_temp2 = path2+\"/\"+a\n",
    "    path_temp3 = path3+\"/\"+a\n",
    "    \n",
    "    if not os.path.isdir(path_temp1):\n",
    "        os.mkdir(path_temp1)\n",
    "    if not os.path.isdir(path_temp2):\n",
    "        os.mkdir(path_temp2)\n",
    "    if not os.path.isdir(path_temp3):\n",
    "        os.mkdir(path_temp3)\n",
    "    "
   ]
  },
  {
   "cell_type": "code",
   "execution_count": null,
   "metadata": {},
   "outputs": [],
   "source": [
    "# import module OpenCV\n",
    "import cv2\n",
    "\n",
    "# orang = [\"Adji\", \"Bill\", \"Hizkia\", \"Khanif\", \"Ridwan\"]\n",
    "orang = [\"Galileo\", \"Hizkia\", \"Nicholas\", \"Ridwan\"]\n",
    "\n",
    "for j in gerakan:\n",
    "    \n",
    "    # initialize frame to 0\n",
    "    f = 0\n",
    "    \n",
    "    for i in orang:\n",
    "        for k in range(1, 3):\n",
    "            path = i+\"/Data/\"+j+\"/\"+str(k)+\".mp4\"\n",
    "            \n",
    "            # capture the video\n",
    "            capture = cv2.VideoCapture(path)\n",
    "\n",
    "            # frame path\n",
    "            path3 = path1+\"/\"+j+\"/frame_\"\n",
    "\n",
    "            # extract while loop\n",
    "            while(capture.isOpened()):\n",
    "                ret, frame = capture.read()\n",
    "                if ret == False:\n",
    "                    break\n",
    "                \n",
    "                # store the frame\n",
    "                cv2.imwrite(path3+str(f)+'.jpg', frame)\n",
    "                f += 1"
   ]
  },
  {
   "cell_type": "code",
   "execution_count": null,
   "metadata": {},
   "outputs": [],
   "source": [
    "gerakan = [\"Berdiri\", \"Duduk\", \"Sujud\"]\n",
    "for j in gerakan:\n",
    "\n",
    "    total = 0\n",
    "\n",
    "    # Dapatkan daftar file dalam direktori\n",
    "    directory_path = \"Hasil/data_frame/\"+j\n",
    "\n",
    "    files = [f for f in os.listdir(directory_path) if os.path.isfile(os.path.join(directory_path, f))]\n",
    "\n",
    "    # Lakukan perulangan sebanyak jumlah file\n",
    "    for i, file in enumerate(files, start=1):\n",
    "        total += 1\n",
    "    \n",
    "    for k in range(total):\n",
    "        image = cv2.imread(directory_path+\"/frame_\"+str(k)+\".jpg\")\n",
    "        flipped_image = cv2.flip(image, 1)\n",
    "        cv2.imwrite(directory_path+\"/frame_\"+str(k+total)+\".jpg\", flipped_image)\n"
   ]
  },
  {
   "cell_type": "markdown",
   "metadata": {},
   "source": [
    "# Untuk Per Orang"
   ]
  },
  {
   "cell_type": "code",
   "execution_count": 1,
   "metadata": {},
   "outputs": [],
   "source": [
    "import os\n",
    "\n",
    "orang = [\"Hizkia\", \"Ridwan\"]\n",
    "gerakan = [\"Berdiri\", \"Duduk\", \"Sujud\"]\n",
    "\n",
    "for i in orang:\n",
    "    path0 = i+\"/Hasil\"\n",
    "    if not os.path.isdir(path0):\n",
    "        os.mkdir(path0)\n",
    "        \n",
    "    path1 = path0+\"/data_frame\"\n",
    "    if not os.path.isdir(path1):\n",
    "        os.mkdir(path1)\n",
    "        \n",
    "        \n",
    "    for a in gerakan:\n",
    "        path_temp1 = path1+\"/\"+a\n",
    "        \n",
    "        if not os.path.isdir(path_temp1):\n",
    "            os.mkdir(path_temp1)"
   ]
  },
  {
   "cell_type": "code",
   "execution_count": 2,
   "metadata": {},
   "outputs": [],
   "source": [
    "# import module OpenCV\n",
    "import cv2\n",
    "\n",
    "for j in gerakan:\n",
    "    \n",
    "    for i in orang:\n",
    "        \n",
    "        # initialize frame to 0\n",
    "        f = 0\n",
    "        \n",
    "        for k in range(2, 3):\n",
    "            path = i+\"/Data/\"+j+\"/\"+str(k)+\".mp4\"\n",
    "\n",
    "            # capture the video\n",
    "            capture = cv2.VideoCapture(path)\n",
    "\n",
    "            # frame path\n",
    "            path3 = i+\"/Hasil/data_frame/\"+j+\"/frame_\"\n",
    "\n",
    "            # extract while loop\n",
    "            while(capture.isOpened()):\n",
    "                ret, frame = capture.read()\n",
    "                if ret == False:\n",
    "                    break\n",
    "                \n",
    "                # store the frame\n",
    "                cv2.imwrite(path3+str(f)+'.jpg', frame)\n",
    "                f += 1"
   ]
  },
  {
   "cell_type": "code",
   "execution_count": 3,
   "metadata": {},
   "outputs": [
    {
     "name": "stdout",
     "output_type": "stream",
     "text": [
      "Data Hizkia Berhasil Augmentasi\n",
      "Data Ridwan Berhasil Augmentasi\n"
     ]
    }
   ],
   "source": [
    "gerakan = [\"Berdiri\", \"Duduk\", \"Sujud\"]\n",
    "\n",
    "for l in orang:\n",
    "    for j in gerakan:\n",
    "\n",
    "        total = 0\n",
    "\n",
    "        # Dapatkan daftar file dalam direktori\n",
    "        directory_path = l+\"/Hasil/data_frame/\"+j\n",
    "\n",
    "        files = [f for f in os.listdir(directory_path) if os.path.isfile(os.path.join(directory_path, f))]\n",
    "\n",
    "        # Lakukan perulangan sebanyak jumlah file\n",
    "        for i, file in enumerate(files, start=1):\n",
    "            total += 1\n",
    "        \n",
    "        for k in range(total):\n",
    "            image = cv2.imread(directory_path+\"/frame_\"+str(k)+\".jpg\")\n",
    "            flipped_image = cv2.flip(image, 1)\n",
    "            cv2.imwrite(directory_path+\"/frame_\"+str(k+total)+\".jpg\", flipped_image)\n",
    "        \n",
    "    print(f\"Data {l} Berhasil Augmentasi\")"
   ]
  },
  {
   "cell_type": "markdown",
   "metadata": {},
   "source": [
    "## Data Training : Galileo, Hizkia, Nicholas, Ridwan (150cm Atas, 170cm Samping)\n",
    "## Data Validation : Adji, Bill, Khanif\n",
    "## Data Testing : Hizkia, Ridwan (200cm Atas, 250cm Samping)"
   ]
  },
  {
   "cell_type": "markdown",
   "metadata": {},
   "source": []
  }
 ],
 "metadata": {
  "kernelspec": {
   "display_name": "deim",
   "language": "python",
   "name": "python3"
  },
  "language_info": {
   "codemirror_mode": {
    "name": "ipython",
    "version": 3
   },
   "file_extension": ".py",
   "mimetype": "text/x-python",
   "name": "python",
   "nbconvert_exporter": "python",
   "pygments_lexer": "ipython3",
   "version": "3.11.9"
  }
 },
 "nbformat": 4,
 "nbformat_minor": 2
}
